{
 "cells": [
  {
   "cell_type": "code",
   "execution_count": 11,
   "metadata": {},
   "outputs": [
    {
     "data": {
      "text/plain": [
       "'Join the navi'"
      ]
     },
     "execution_count": 11,
     "metadata": {},
     "output_type": "execute_result"
    }
   ],
   "source": [
    "#Invertir una cadena de texto (pista: [::-1])\n",
    "def invertir(cadena):\n",
    "    return cadena[::-1]\n",
    "        \n",
    "invertir(\"ivan eht nioJ\")\n"
   ]
  },
  {
   "cell_type": "code",
   "execution_count": 21,
   "metadata": {},
   "outputs": [
    {
     "data": {
      "text/plain": [
       "True"
      ]
     },
     "execution_count": 21,
     "metadata": {},
     "output_type": "execute_result"
    }
   ],
   "source": [
    "#Comprobar si un numero es capicua\n",
    "def capicua(numero:int):\n",
    "    num=str(numero)\n",
    "    return num==num[::-1]\n",
    "capicua(101)"
   ]
  },
  {
   "cell_type": "code",
   "execution_count": 47,
   "metadata": {},
   "outputs": [
    {
     "data": {
      "text/plain": [
       "True"
      ]
     },
     "execution_count": 47,
     "metadata": {},
     "output_type": "execute_result"
    }
   ],
   "source": [
    "#Determinar si un numero es primo\n",
    "def primo(numero):\n",
    "    if numero>1:\n",
    "        for i in range(2,numero+1):\n",
    "            if(numero%i==0 and i!=numero):\n",
    "                return False\n",
    "        else:\n",
    "            return True\n",
    "    else:\n",
    "        return False\n",
    "primo(3)"
   ]
  },
  {
   "cell_type": "code",
   "execution_count": 66,
   "metadata": {
    "scrolled": true
   },
   "outputs": [
    {
     "name": "stdout",
     "output_type": "stream",
     "text": [
      "[2, 3, 5, 7, 11, 13, 17, 19, 23, 29]\n"
     ]
    },
    {
     "data": {
      "text/plain": [
       "29"
      ]
     },
     "execution_count": 66,
     "metadata": {},
     "output_type": "execute_result"
    }
   ],
   "source": [
    "#Determinar cuál es el enésimo primo\n",
    "def primoene(numero):\n",
    "    primos=[]\n",
    "    i=0\n",
    "    while(numero>len(primos)):\n",
    "        if(primo(i)):\n",
    "            primos.append(i)\n",
    "            i=i+1\n",
    "        else:\n",
    "            i=i+1\n",
    "    return primos[numero-1]\n",
    "\n",
    "primoene(10)"
   ]
  },
  {
   "cell_type": "code",
   "execution_count": 72,
   "metadata": {},
   "outputs": [
    {
     "name": "stdout",
     "output_type": "stream",
     "text": [
      "Los divisores de 11 son: [1, 11]\n"
     ]
    }
   ],
   "source": [
    "#Imprimir por pantalla los divisores de un numero dado.\n",
    "def divisores(numero):\n",
    "    divisores=[]\n",
    "    for i in range(1,numero+1):\n",
    "        if(numero%i==0):\n",
    "            divisores.append(i)\n",
    "    print(\"Los divisores de\",numero,\"son:\",divisores)\n",
    "\n",
    "divisores(11)"
   ]
  },
  {
   "cell_type": "code",
   "execution_count": 77,
   "metadata": {},
   "outputs": [
    {
     "data": {
      "image/png": "[encoded data removed]",
      "text/plain": [
       "<Figure size 432x288 with 1 Axes>"
      ]
     },
     "metadata": {
      "needs_background": "light"
     },
     "output_type": "display_data"
    }
   ],
   "source": [
    "#Graficar la funcion y = 2x + 5 en el intervalo (-2, 7)\n",
    "\n",
    "import numpy\n",
    "from matplotlib import pyplot\n",
    "x = numpy.linspace(-2, 7, 100)\n",
    "y = 2*x+5\n",
    "pyplot.plot(x, y)\n",
    "pyplot.show()"
   ]
  },
  {
   "cell_type": "code",
   "execution_count": 124,
   "metadata": {},
   "outputs": [
    {
     "name": "stdout",
     "output_type": "stream",
     "text": [
      "[ 7. -1. -1.]\n"
     ]
    }
   ],
   "source": [
    "'''\n",
    "Resolver el siguiente sistema de ecuaciones:\n",
    "\n",
    "    x + y + 3z = 3\n",
    "    2x + 4y + 5z = 5\n",
    "    2x + 2y + 4z = 8\n",
    "    \n",
    "'''\n",
    "import numpy as np\n",
    "\n",
    "A = np.array([[1, 1, 3],[2, 4, 5],[2, 2, 4]])\n",
    "\n",
    "B = np.array([3,5,8])\n",
    "\n",
    "x = np.linalg.solve(A,b)\n",
    "\n",
    "print(x)\n",
    "\n",
    "#Resuelto con array"
   ]
  },
  {
   "cell_type": "code",
   "execution_count": 126,
   "metadata": {},
   "outputs": [
    {
     "name": "stdout",
     "output_type": "stream",
     "text": [
      "[ 7. -1. -1.]\n"
     ]
    }
   ],
   "source": [
    "import numpy as matrix\n",
    "\n",
    "A = np.matrix([[1, 1, 3],[2, 4, 5],[2, 2, 4]])\n",
    "\n",
    "B = np.matrix([3,5,8])\n",
    "\n",
    "x = np.linalg.solve(A,b)\n",
    "\n",
    "print(x)"
   ]
  },
  {
   "cell_type": "code",
   "execution_count": null,
   "metadata": {},
   "outputs": [],
   "source": []
  }
 ],
 "metadata": {
  "kernelspec": {
   "display_name": "Python 3",
   "language": "python",
   "name": "python3"
  },
  "language_info": {
   "codemirror_mode": {
    "name": "ipython",
    "version": 3
   },
   "file_extension": ".py",
   "mimetype": "text/x-python",
   "name": "python",
   "nbconvert_exporter": "python",
   "pygments_lexer": "ipython3",
   "version": "3.8.2"
  }
 },
 "nbformat": 4,
 "nbformat_minor": 4
}
